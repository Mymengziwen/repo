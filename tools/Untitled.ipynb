{
 "cells": [
  {
   "cell_type": "markdown",
   "id": "7bf6fbd6-dbcc-4143-8f03-9cc0f54eaa96",
   "metadata": {},
   "source": [
    "This is the first line.  \n",
    "And this is the second line."
   ]
  },
  {
   "cell_type": "markdown",
   "id": "786dbeb5-0538-4d87-bbe1-b778d4b70ffe",
   "metadata": {},
   "source": [
    "This is the first line. <br>And this is the second line."
   ]
  },
  {
   "cell_type": "markdown",
   "id": "25c6c22d-4362-4860-8768-39a3565e5509",
   "metadata": {},
   "source": [
    "<font face=\"黑体\">我是黑体字</font>  \n",
    "<font face=\"微软雅黑\">我是微软雅黑</font>  \n",
    "<font face=\"STCAIYUN\">我是华文彩云</font>  \n",
    "<font color=red>我是红色</font>  \n",
    "<font color=#008000>我是绿色</font>  \n",
    "<font color=Blue>我是蓝色</font>  \n",
    "<font size=5>我是尺寸</font>  \n",
    "<font face=\"黑体\" color=green size=5>我是黑体，绿色，尺寸为5</font>  "
   ]
  },
  {
   "cell_type": "markdown",
   "id": "cf0e8a5f-7382-4ed7-b252-c246a1542195",
   "metadata": {},
   "source": [
    "<table><tr><td bgcolor=yellow>背景色yellow</td></tr></table>"
   ]
  },
  {
   "cell_type": "code",
   "execution_count": null,
   "id": "03fcea02-92f5-4451-8f69-5ab6b44a51f3",
   "metadata": {},
   "outputs": [],
   "source": []
  }
 ],
 "metadata": {
  "kernelspec": {
   "display_name": "Python 3",
   "language": "python",
   "name": "python3"
  },
  "language_info": {
   "codemirror_mode": {
    "name": "ipython",
    "version": 3
   },
   "file_extension": ".py",
   "mimetype": "text/x-python",
   "name": "python",
   "nbconvert_exporter": "python",
   "pygments_lexer": "ipython3",
   "version": "3.8.8"
  }
 },
 "nbformat": 4,
 "nbformat_minor": 5
}
