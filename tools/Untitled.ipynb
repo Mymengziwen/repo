{
 "cells": [
  {
   "cell_type": "markdown",
   "id": "bc0ead97-e040-434d-92b3-83e2d82e75d5",
   "metadata": {},
   "source": [
    "https://github.com/waterDLut/hydrus/blob/master/1-basic-envir/2-python-envir.md"
   ]
  },
  {
   "cell_type": "markdown",
   "id": "fbf35d85-0621-41df-a7c3-3b9b39737c67",
   "metadata": {},
   "source": [
    "```\n",
    "**一般我们在 push 之前都会用`git pull`命令 pull一下 ，这样不容易冲突。**\n",
    "\n",
    "- git push：翻译为推，当你的代码更新，需要把本地的推到远程仓库  \n",
    "\n",
    "- git pull：翻译为拉，当远程仓库有更新，你需要把远程的拉到本地进行合并  \n",
    "```\n"
   ]
  },
  {
   "cell_type": "markdown",
   "id": "f5d0a43a-7cd4-4305-9170-68002dcb9122",
   "metadata": {},
   "source": [
    "**一般我们在 push 之前都会用`git pull`命令 pull一下 ，这样不容易冲突。**\n",
    "\n",
    "- git push：翻译为推，当你的代码更新，需要把本地的推到远程仓库  \n",
    "\n",
    "- git pull：翻译为拉，当远程仓库有更新，你需要把远程的拉到本地进行合并 "
   ]
  },
  {
   "cell_type": "code",
   "execution_count": null,
   "id": "89d3fa06-0e1d-43c0-bb0f-24abbf10233f",
   "metadata": {},
   "outputs": [],
   "source": []
  }
 ],
 "metadata": {
  "kernelspec": {
   "display_name": "Python 3",
   "language": "python",
   "name": "python3"
  },
  "language_info": {
   "codemirror_mode": {
    "name": "ipython",
    "version": 3
   },
   "file_extension": ".py",
   "mimetype": "text/x-python",
   "name": "python",
   "nbconvert_exporter": "python",
   "pygments_lexer": "ipython3",
   "version": "3.8.8"
  }
 },
 "nbformat": 4,
 "nbformat_minor": 5
}
